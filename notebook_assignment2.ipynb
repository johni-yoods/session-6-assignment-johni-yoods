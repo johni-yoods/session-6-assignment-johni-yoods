{
  "nbformat": 4,
  "nbformat_minor": 0,
  "metadata": {
    "colab": {
      "name": "notebook_assignment2.ipynb",
      "provenance": []
    },
    "kernelspec": {
      "name": "python3",
      "display_name": "Python 3"
    },
    "language_info": {
      "name": "python"
    }
  },
  "cells": [
    {
      "cell_type": "markdown",
      "metadata": {
        "id": "zuHUzT4qYdsI"
      },
      "source": [
        "# Session 6"
      ]
    },
    {
      "cell_type": "markdown",
      "metadata": {
        "id": "1VaQtnZYYic0"
      },
      "source": [
        "## Assignment 2"
      ]
    },
    {
      "cell_type": "code",
      "metadata": {
        "id": "92nAyvhHpkvs"
      },
      "source": [
        "import random\n",
        "import math\n",
        "from functools import reduce, partial\n",
        "import string,requests"
      ],
      "execution_count": 1,
      "outputs": []
    },
    {
      "cell_type": "markdown",
      "metadata": {
        "id": "uz-kTD6yYnWs"
      },
      "source": [
        "### 1.check whether a number is a Fibonacci number or not"
      ]
    },
    {
      "cell_type": "code",
      "metadata": {
        "id": "nQNAbjoApmHe",
        "colab": {
          "base_uri": "https://localhost:8080/"
        },
        "outputId": "55fbb42c-3554-4df2-f060-ae9a39acef00"
      },
      "source": [
        "\n",
        "\n",
        "\n",
        "\n",
        "def fibonacci_check(number:int)->bool: \n",
        "    \"\"\"\n",
        "    This function takes a number as an input and check whether the number is Fibonacci or not\n",
        "\n",
        "    # input: \n",
        "        number   : int\n",
        "    \n",
        "    # Returns\n",
        "        bool (True if the number is fib else False)\n",
        "\n",
        "    # Funcationality:\n",
        "        A number is Fibinacci if one of 5*n*n + 4 or 5*n*n - 4 or both is a perferct square\n",
        "    \n",
        "\n",
        "    \"\"\"\n",
        "\n",
        "    z=lambda x : (True if int(math.sqrt(5*x*x + 4))*int(math.sqrt(5*x*x + 4)) ==5*x*x+4 else False) or (True if int(math.sqrt(5*x*x - 4))*int(math.sqrt(5*x*x - 4)) ==(5*x*x-4) else False)\n",
        "    \n",
        "    return z(number) # Returns true if n is a Fibinacci Number, else false\n",
        "\n",
        "\n",
        "numbers  = [1,7,8,10]\n",
        "for num in numbers:\n",
        "    if (fibonacci_check(num)):\n",
        "        print(\"Number \"+str(num)+\" is a finbonacci number\")\n",
        "    else:\n",
        "        print(\"Number \"+str(num)+\" is not a finbonacci number\")"
      ],
      "execution_count": 2,
      "outputs": [
        {
          "output_type": "stream",
          "text": [
            "Number 1 is a finbonacci number\n",
            "Number 7 is not a finbonacci number\n",
            "Number 8 is a finbonacci number\n",
            "Number 10 is not a finbonacci number\n"
          ],
          "name": "stdout"
        }
      ]
    },
    {
      "cell_type": "markdown",
      "metadata": {
        "id": "G7xK0vhgYsUt"
      },
      "source": [
        "### 2. List Comprehension"
      ]
    },
    {
      "cell_type": "markdown",
      "metadata": {
        "id": "LagIRYTwY2xk"
      },
      "source": [
        "### 2.1 Add even and odd elements"
      ]
    },
    {
      "cell_type": "code",
      "metadata": {
        "id": "UYVnIMbZppz2",
        "colab": {
          "base_uri": "https://localhost:8080/"
        },
        "outputId": "7e46e4b7-058f-4cc5-f67a-cadda508a21c"
      },
      "source": [
        "\n",
        "\n",
        "## 2.1\n",
        "\n",
        "def add_list(a: list ,b: list)-> list:\n",
        "    \"\"\"\n",
        "    This function takes two list, compares each element, if list 1 ahs even element and list\n",
        "    2 has odd element then they are added else ignored\n",
        "\n",
        "    # Input:\n",
        "        a: List (Input List 1)\n",
        "        b: List (Input List 2)\n",
        "\n",
        "    # Returns:\n",
        "        list: Once the addition is done, the result is stored in the list and returned.\n",
        "    \n",
        "    # Functionality:\n",
        "        The two lists are zipped and each tuple is iterated, element 1 of the tuple is checked of \n",
        "        evens and element b of the tuple is checked for odd, if the condition is satisfied\n",
        "        then they are added and the result is stored in a list.\n",
        "    \"\"\"\n",
        "\n",
        "    result = [x+y for x,y in zip(a,b) if x % 2 ==0 if y % 2 != 0 ]\n",
        "    return result\n",
        "\n",
        "result = add_list([2,4,6,7],[1,3,4,5])\n",
        "print(\"resultant list where the two lists added under the condition\",result)"
      ],
      "execution_count": 3,
      "outputs": [
        {
          "output_type": "stream",
          "text": [
            "resultant list where the two lists added under the condition [3, 7]\n"
          ],
          "name": "stdout"
        }
      ]
    },
    {
      "cell_type": "markdown",
      "metadata": {
        "id": "Rvio2btpZBDm"
      },
      "source": [
        "### 2.2 Remove vowels"
      ]
    },
    {
      "cell_type": "code",
      "metadata": {
        "id": "AnDJPfVCps3V",
        "colab": {
          "base_uri": "https://localhost:8080/"
        },
        "outputId": "4537d7fb-4c3e-4d9d-a8f0-5b29763987b0"
      },
      "source": [
        "## 2.2\n",
        "\n",
        "def strip_string_vowel(string:str)->str:\n",
        "    \"\"\"\n",
        "    This function takes in string as input and checks if it contains any vowel\n",
        "    if yes remove the vowels from the string and returns it\n",
        "    \n",
        "    # Input:\n",
        "        string: str (Input string over which vowel check operation will be performed.)\n",
        "    \n",
        "    # Returns:\n",
        "        str: string with no vowels\n",
        "    \n",
        "    # Functionality:\n",
        "        This function iterates over the elements of the string and checks if each element \n",
        "        is in vowel list or not. if not then it adds to a list.\n",
        "        the list later is then converted to string using join function.\n",
        "    \"\"\"\n",
        "    vowels = ['a','e','i','o','u']\n",
        "    result = \"\".join([x for x in string if x.lower() not in vowels])\n",
        "    return result\n",
        "\n",
        "\n",
        "print(\"stripped string\",strip_string_vowel(\"tsai\"))"
      ],
      "execution_count": 4,
      "outputs": [
        {
          "output_type": "stream",
          "text": [
            "stripped string ts\n"
          ],
          "name": "stdout"
        }
      ]
    },
    {
      "cell_type": "markdown",
      "metadata": {
        "id": "AL7CXMytZGCC"
      },
      "source": [
        "### 2.3 sigmoid function"
      ]
    },
    {
      "cell_type": "code",
      "metadata": {
        "id": "9mdEsxeTpyLU",
        "colab": {
          "base_uri": "https://localhost:8080/"
        },
        "outputId": "d1560722-02a6-4151-c80f-df1464938fff"
      },
      "source": [
        "## 2.3\n",
        "\n",
        "def sigmoid(number_list:list)->list:\n",
        "    \"\"\"\n",
        "        This function calculates sigmoid value.\n",
        "        \n",
        "        # Input: \n",
        "            number_list: lsit, it is the list of values whose sigmoid has to be calculated\n",
        "        \n",
        "        # Returns:\n",
        "            lsit: This function returns the list of sigmoid value of the given list\n",
        "        \n",
        "        # Functionality:\n",
        "            This function takes a number and performs a\n",
        "            sigmoid operation over it and returns the result\n",
        "    \"\"\"\n",
        "    return [1/(1+math.exp(-x)) for x in number_list]\n",
        "\n",
        "n_list = [1,2,3,4]\n",
        "print(\"sigmoids of list \"+str(n_list)+\" is \",sigmoid(n_list))"
      ],
      "execution_count": 6,
      "outputs": [
        {
          "output_type": "stream",
          "text": [
            "sigmoids of list [1, 2, 3, 4] is  [0.7310585786300049, 0.8807970779778823, 0.9525741268224334, 0.9820137900379085]\n"
          ],
          "name": "stdout"
        }
      ]
    },
    {
      "cell_type": "markdown",
      "metadata": {
        "id": "bGIImcZxZLEM"
      },
      "source": [
        "### 2.4 Shift characters"
      ]
    },
    {
      "cell_type": "code",
      "metadata": {
        "id": "UNQawCX3p1UO",
        "colab": {
          "base_uri": "https://localhost:8080/"
        },
        "outputId": "e5c10f2d-6236-4e54-a3f1-eae9b41be400"
      },
      "source": [
        "\n",
        "# 2.4\n",
        "\n",
        "def shift_chars(string:str)->str:\n",
        "    \"\"\"\n",
        "    This function performs an alphabatical shift of 5\n",
        "\n",
        "    # Input:\n",
        "        string: str, String over which shifts has to be done\n",
        "    \n",
        "    # Returns:\n",
        "        str: resultant String\n",
        "    \n",
        "    # Funcationality:\n",
        "        shift each character by 5, if it is on the bottleneck, it starts again from a.\n",
        "        here only lowercase alphabets are used. so we check if the order of input character is \n",
        "        + 5 greater than order of z, then we substract 26 out of it resuling in -21 (5-26) else\n",
        "        we add it directly. \n",
        "    \"\"\"\n",
        "    result = \"\".join([chr(ord(x)-26) if (ord(x)+5) > ord('z') else chr(ord(x) + 5) for x in string])\n",
        "    return result\n",
        "\n",
        "print(\"shifted characters:\",shift_chars(\"tsai\"))"
      ],
      "execution_count": 7,
      "outputs": [
        {
          "output_type": "stream",
          "text": [
            "shifted characters: yxfn\n"
          ],
          "name": "stdout"
        }
      ]
    },
    {
      "cell_type": "markdown",
      "metadata": {
        "id": "3IHCRBBvZPWU"
      },
      "source": [
        "### 3. Check profanity "
      ]
    },
    {
      "cell_type": "code",
      "metadata": {
        "id": "DPH97ec4p4-Z",
        "colab": {
          "base_uri": "https://localhost:8080/"
        },
        "outputId": "1d15bc34-1275-416d-c435-8b36c603ffd3"
      },
      "source": [
        "# 3 check profanity \n",
        "\n",
        "def check_profanity_words(paragraph: str)-> bool:\n",
        "    \"\"\"\n",
        "    This function is used to check if bad words are present in a paragraph or not and flag them\n",
        "    \n",
        "    # Input:\n",
        "        paragraph: str, Input paragraph given by the user\n",
        "\n",
        "    # Returns:\n",
        "        bool: It returns True if any bad word found else returns false\n",
        "\n",
        "    # Functionality:\n",
        "        The paragraph is split into words and then each word is compared with the bad word list and \n",
        "        is being flagged, if any true flag is seen, the para is marked as toxic.\n",
        "    \"\"\"\n",
        "\n",
        "    if len(paragraph.split()) < 200:\n",
        "        raise ValueError(\"Paragraph length should be minimum 200\")\n",
        "\n",
        "    url = 'https://github.com/RobertJGabriel/Google-profanity-words/blob/master/list.txt'\n",
        "    r = requests.get(url, allow_redirects=True)\n",
        "\n",
        "    open('swear_wordlist.txt', 'wb').write(r.content)\n",
        "    f = open(\"swear_wordlist.txt\",\"r\")\n",
        "    bad_words = f.readlines()\n",
        "    f.close()\n",
        "    result = any([False if x not in bad_words else True for x in paragraph.split()])\n",
        "    return result\n",
        "\n",
        "url = 'http://www.umich.edu/~umfandsf/other/ebooks/alice30.txt'\n",
        "r = requests.get(url, allow_redirects=True)\n",
        "\n",
        "open('alice_in_wonderland.txt', 'wb').write(r.content)\n",
        "f=open(\"alice_in_wonderland.txt\",\"r\")\n",
        "paragraph = f.read(5000)\n",
        "f.close()\n",
        "if(check_profanity_words(paragraph)):\n",
        "    print(\"paragraph has swear words\")\n",
        "else:\n",
        "    print(\"paragraph does not have any  swear words\")"
      ],
      "execution_count": 8,
      "outputs": [
        {
          "output_type": "stream",
          "text": [
            "paragraph does not have any  swear words\n"
          ],
          "name": "stdout"
        }
      ]
    },
    {
      "cell_type": "markdown",
      "metadata": {
        "id": "e-gd9iKXZVpt"
      },
      "source": [
        "### 4. Reduce Functions"
      ]
    },
    {
      "cell_type": "code",
      "metadata": {
        "id": "VeMidzJZp8p2",
        "colab": {
          "base_uri": "https://localhost:8080/"
        },
        "outputId": "5e5cecd0-239e-4306-9ed1-f1661efde9de"
      },
      "source": [
        "# 4 Reduce Functions\n",
        "\n",
        "## 4.1\n",
        "\n",
        "def add_evens(numbers:list)->int:\n",
        "    \"\"\"\n",
        "    This function adds only even numbers in the list\n",
        "\n",
        "    # Input:\n",
        "        numbers: list, This is a list of numbers\n",
        "    \n",
        "    # Returns:\n",
        "        int: It returns the calculated sum of the integers\n",
        "    \n",
        "    # Functionality:\n",
        "        This function takes in list, filters out all the even number using filter and lambda \n",
        "        and then passes that list to reduce function to add all the elements of it, then the result\n",
        "        is returned back.\n",
        "\n",
        "    \"\"\"\n",
        "    result = reduce(lambda x,y: x + y ,filter(lambda x: (x % 2 == 0), numbers))\n",
        "    return result\n",
        "\n",
        "numbers = [1,2,3,4,5,6,7,8]\n",
        "print(\"sum of even numbers in the list:\",add_evens(numbers))\n"
      ],
      "execution_count": 9,
      "outputs": [
        {
          "output_type": "stream",
          "text": [
            "sum of even numbers in the list: 20\n"
          ],
          "name": "stdout"
        }
      ]
    },
    {
      "cell_type": "markdown",
      "metadata": {
        "id": "7WQnwzudZbIg"
      },
      "source": [
        "### 4.2 Biggest character in the string"
      ]
    },
    {
      "cell_type": "code",
      "metadata": {
        "id": "pqVb8G-Qp_z3",
        "colab": {
          "base_uri": "https://localhost:8080/"
        },
        "outputId": "4bc7da8b-d334-4f47-8d59-33b25080364d"
      },
      "source": [
        "## 4.2\n",
        "\n",
        "def biggest_char(string:str)->chr:\n",
        "    \"\"\"\n",
        "    This function finds the biggest character in the string.\n",
        "\n",
        "    # Input:\n",
        "        mystring: list, String provided by theuser\n",
        "    \n",
        "    # Returns:\n",
        "        chr: Biggest printable character in the string\n",
        "    \n",
        "    # Functionality:\n",
        "        This function takes in string, and checks each element if the string with other\n",
        "        to findout which is the biggest one.\n",
        "    \"\"\"\n",
        "\n",
        "    result = reduce(max,string, \" \")\n",
        "    return result\n",
        "\n",
        "print(\"biggest char in the given string is \", biggest_char(\"johni\"))"
      ],
      "execution_count": 10,
      "outputs": [
        {
          "output_type": "stream",
          "text": [
            "biggest char in the given string is  o\n"
          ],
          "name": "stdout"
        }
      ]
    },
    {
      "cell_type": "markdown",
      "metadata": {
        "id": "nWkYv290ZgGl"
      },
      "source": [
        "### 4.3 Sum of every 3rd number"
      ]
    },
    {
      "cell_type": "code",
      "metadata": {
        "id": "Vczw393CqBqM",
        "colab": {
          "base_uri": "https://localhost:8080/"
        },
        "outputId": "85a8910f-5044-4189-c4d9-0138e1aff77e"
      },
      "source": [
        "\n",
        "## 4.3\n",
        "\n",
        "def add_3rd(numbers: list)->int:\n",
        "    \"\"\"\n",
        "    This function add every 3rd number in the list\n",
        "\n",
        "    # Input:\n",
        "        number: list, This is a list of numbers\n",
        "    \n",
        "    # Returns:\n",
        "        int: It returns the calculated sum of the integers\n",
        "    \n",
        "    # Functionality:\n",
        "        This function takes in list, filters out the list containing all third elements \n",
        "        and then it is added\n",
        "\n",
        "    \"\"\"\n",
        "    result = reduce(lambda x,y: x + y,numbers[2::3])\n",
        "    return result\n",
        "\n",
        "numbers = [1,2,3,4,5,6,7,8,9,10,11,12]\n",
        "print(\"sum of every 3rd number in the list \",add_3rd(numbers))"
      ],
      "execution_count": 11,
      "outputs": [
        {
          "output_type": "stream",
          "text": [
            "sum of every 3rd number in the list  30\n"
          ],
          "name": "stdout"
        }
      ]
    },
    {
      "cell_type": "markdown",
      "metadata": {
        "id": "2IrlVtHgZrwO"
      },
      "source": [
        "### 5. Number plate generation"
      ]
    },
    {
      "cell_type": "code",
      "metadata": {
        "id": "74N8Lw2PqET2",
        "colab": {
          "base_uri": "https://localhost:8080/"
        },
        "outputId": "f044c704-34c8-4d83-ba01-dc3af378cb44"
      },
      "source": [
        "\n",
        "\n",
        "# 5\n",
        "\n",
        "def numberplate_gen()->list:\n",
        "    \"\"\"\n",
        "    This function is used to generate random number plates\n",
        "\n",
        "    # Input:\n",
        "        None\n",
        "    \n",
        "    # Returns:\n",
        "        list: This function returns list of all the generated number plates.\n",
        "    \n",
        "    # Functionality\n",
        "        The format of number plate has to be KADDAADDDD, D is digit and A is alphabet\n",
        "        DD has to be in the range 10 to 99 where as DDDD has to be in the range 1000 to 9999\n",
        "        AA has to be uppercase ascii character\n",
        "\n",
        "    \"\"\"\n",
        "    result = [\"KA\"+str(random.randint(10,100))+random.choice(string.ascii_uppercase) +random.choice(string.ascii_uppercase) +str(random.randint(1000,10000)) for _ in range(15) ]\n",
        "    return result\n",
        "\n",
        "print(numberplate_gen())\n"
      ],
      "execution_count": 12,
      "outputs": [
        {
          "output_type": "stream",
          "text": [
            "['KA69YQ3372', 'KA97DJ9164', 'KA71ZS6256', 'KA10NJ1092', 'KA42AB3082', 'KA87CM1519', 'KA62MV5913', 'KA53CS2752', 'KA97UN8748', 'KA79PU5452', 'KA75EU2329', 'KA31NG1797', 'KA75NJ6625', 'KA48DB8489', 'KA66CS9825']\n"
          ],
          "name": "stdout"
        }
      ]
    },
    {
      "cell_type": "code",
      "metadata": {
        "id": "P-vUsb3do6o7",
        "colab": {
          "base_uri": "https://localhost:8080/"
        },
        "outputId": "982ae469-a559-428c-c711-3345a46c6cea"
      },
      "source": [
        "\n",
        "\n",
        "# 6\n",
        "\n",
        "def number_plate(state_code:str,numberplate:int)->str:\n",
        "    \"\"\"\n",
        "    This function is used to generate custom number plates\n",
        "    \n",
        "    # Input:\n",
        "        state_code: str\n",
        "        numberplate:int \n",
        "    \n",
        "    # Returns:\n",
        "        list: This function returns list of all the generated number plates.\n",
        "    \n",
        "    # Functionality\n",
        "        The format of number plate has to be KADDAADDDD/DLDDAADDDD, D is digit and A is alphabet\n",
        "        DD has to be in the range 10 to 99 where as DDDD has to be in the range 1000 to 9999, chosen by the user\n",
        "        AA has to be uppercase ascii character\n",
        "    \"\"\"\n",
        "    return state_code + str(random.randint(10,100))+random.choice(string.ascii_uppercase) +random.choice(string.ascii_uppercase) +str(numberplate)\n",
        "\n",
        "def custom_numberplate(fn,statecode:str)->str:\n",
        "    \"\"\"\n",
        "    This function is used to create custom statewise numberplates\n",
        "\n",
        "    # Input:\n",
        "        fn: Funtion (It will be called inside the partial function)\n",
        "        statecode: str\n",
        "    \n",
        "    # Returns:\n",
        "        str: It return the numberplate in the string\n",
        "    \n",
        "    # Functionality:\n",
        "        This function call partial function which takes function as the input and its variable as the \n",
        "        parameter. statecode is something given by the user.\n",
        "\n",
        "    \"\"\"\n",
        "    f = partial(fn,numberplate = 9999)\n",
        "    return f(statecode)\n",
        "print(\"custom number plate:\",custom_numberplate(number_plate,\"DL\"))\n"
      ],
      "execution_count": 13,
      "outputs": [
        {
          "output_type": "stream",
          "text": [
            "custom number plate: DL97TP9999\n"
          ],
          "name": "stdout"
        }
      ]
    }
  ]
}