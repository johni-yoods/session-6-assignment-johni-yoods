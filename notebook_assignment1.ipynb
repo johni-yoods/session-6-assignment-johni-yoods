{
  "nbformat": 4,
  "nbformat_minor": 0,
  "metadata": {
    "colab": {
      "name": "notebook_assignment1.ipynb",
      "provenance": []
    },
    "kernelspec": {
      "name": "python3",
      "display_name": "Python 3"
    },
    "language_info": {
      "name": "python"
    }
  },
  "cells": [
    {
      "cell_type": "markdown",
      "metadata": {
        "id": "Gia_zCXVn5v7"
      },
      "source": [
        "# **Session 6 **"
      ]
    },
    {
      "cell_type": "markdown",
      "metadata": {
        "id": "gMejqv5-oFxX"
      },
      "source": [
        "## Assignment 1 - Poker Game"
      ]
    },
    {
      "cell_type": "code",
      "metadata": {
        "id": "TzSPUkwUndej"
      },
      "source": [
        "import random\n",
        "from collections import Counter"
      ],
      "execution_count": null,
      "outputs": []
    },
    {
      "cell_type": "code",
      "metadata": {
        "id": "2lKnx7donfEX"
      },
      "source": [
        "value = ['2', '3', '4', '5', '6', '7', '8', '9', '10', 'jack', 'queen', 'king', 'ace']\n",
        "suits = ['spades', 'clubs', 'hearts', 'diamonds']"
      ],
      "execution_count": null,
      "outputs": []
    },
    {
      "cell_type": "markdown",
      "metadata": {
        "id": "kA5XVrrUoXIx"
      },
      "source": [
        "### Generate deck using list comprehension"
      ]
    },
    {
      "cell_type": "code",
      "metadata": {
        "colab": {
          "base_uri": "https://localhost:8080/"
        },
        "id": "7nsSw8sPnNUA",
        "outputId": "b88010e6-a18d-4a12-a956-9eaf364f2ec6"
      },
      "source": [
        "#1 list comprehension\n",
        "def generate_deck(suits:list,value:list)->list:\n",
        "    '''\n",
        "    This function takes suits and value list, combines them and returns the deck\n",
        "    # Input :\n",
        "        suits: list\n",
        "        value: list\n",
        "    # Functionality:\n",
        "        Iterates over suits and value and combines each value.\n",
        "\n",
        "    # Returns:\n",
        "        A list is returned containing the result of combination of value and suits.\n",
        "    '''\n",
        "    deck = [i+' ' + j for i in value for j in suits]\n",
        "    return deck\n",
        "\n",
        "deck = generate_deck(suits, value)\n",
        "print(deck)"
      ],
      "execution_count": null,
      "outputs": [
        {
          "output_type": "stream",
          "text": [
            "['2 spades', '2 clubs', '2 hearts', '2 diamonds', '3 spades', '3 clubs', '3 hearts', '3 diamonds', '4 spades', '4 clubs', '4 hearts', '4 diamonds', '5 spades', '5 clubs', '5 hearts', '5 diamonds', '6 spades', '6 clubs', '6 hearts', '6 diamonds', '7 spades', '7 clubs', '7 hearts', '7 diamonds', '8 spades', '8 clubs', '8 hearts', '8 diamonds', '9 spades', '9 clubs', '9 hearts', '9 diamonds', '10 spades', '10 clubs', '10 hearts', '10 diamonds', 'jack spades', 'jack clubs', 'jack hearts', 'jack diamonds', 'queen spades', 'queen clubs', 'queen hearts', 'queen diamonds', 'king spades', 'king clubs', 'king hearts', 'king diamonds', 'ace spades', 'ace clubs', 'ace hearts', 'ace diamonds']\n"
          ],
          "name": "stdout"
        }
      ]
    },
    {
      "cell_type": "markdown",
      "metadata": {
        "id": "0azh5DSSoNT-"
      },
      "source": [
        "### Generate deck using normal function(without lambda etc)"
      ]
    },
    {
      "cell_type": "code",
      "metadata": {
        "colab": {
          "base_uri": "https://localhost:8080/"
        },
        "id": "NleJ5GBonpPS",
        "outputId": "b91f9023-0cd3-48ef-e665-e1ec255dd365"
      },
      "source": [
        "#2 Normal Function\n",
        "def generate_deck_normal(suits, value):\n",
        "    '''\n",
        "    This function takes suits and value list, combines them and returns the deck\n",
        "    # Input :\n",
        "        suits: list\n",
        "        value: list\n",
        "    # Functionality:\n",
        "        Iterates over suits and value and combines each value.\n",
        "    \n",
        "    # Returns: \n",
        "        A list is returned containing the result of combination of value and suits.\n",
        "    '''\n",
        "    mydeck = []\n",
        "    for i in value:\n",
        "        for j in suits:\n",
        "            mydeck.append(i + \" \" + j)\n",
        "    return mydeck\n",
        "\n",
        "print(generate_deck_normal(suits,value))"
      ],
      "execution_count": null,
      "outputs": [
        {
          "output_type": "stream",
          "text": [
            "['2 spades', '2 clubs', '2 hearts', '2 diamonds', '3 spades', '3 clubs', '3 hearts', '3 diamonds', '4 spades', '4 clubs', '4 hearts', '4 diamonds', '5 spades', '5 clubs', '5 hearts', '5 diamonds', '6 spades', '6 clubs', '6 hearts', '6 diamonds', '7 spades', '7 clubs', '7 hearts', '7 diamonds', '8 spades', '8 clubs', '8 hearts', '8 diamonds', '9 spades', '9 clubs', '9 hearts', '9 diamonds', '10 spades', '10 clubs', '10 hearts', '10 diamonds', 'jack spades', 'jack clubs', 'jack hearts', 'jack diamonds', 'queen spades', 'queen clubs', 'queen hearts', 'queen diamonds', 'king spades', 'king clubs', 'king hearts', 'king diamonds', 'ace spades', 'ace clubs', 'ace hearts', 'ace diamonds']\n"
          ],
          "name": "stdout"
        }
      ]
    },
    {
      "cell_type": "code",
      "metadata": {
        "id": "0nBks9awnILA"
      },
      "source": [
        "\n",
        "#3 poker game\n",
        "\n",
        "conv_value = {\"jack\":11,\"queen\":12,\"king\":13,\"ace\":14}\n",
        "def check_cards(user_set:list):\n",
        "    \"\"\" 1. first check if the colors of all the cards are same or not\n",
        "      1. if they are same we check for sequence\n",
        "         1. if sequence is same, we match it with royal flush sequence, if true we return 1,14 (1 represents the listing from the rank and 14 is the max value of the array corresponding to ace)\n",
        "         2. else we return 2, max(hand) (straight flush)\n",
        "      2. else we return 5, max(hand) (flush)\n",
        "   2. else we check for sequence\n",
        "      1. if true, then we return 6,max(hand) (straight)\n",
        "      2. else we do a count of each number i.e. how many times they are being repeated and we sort them from higher to lower, then we check for length of the hand as algorithm now is specifically developed for ecah hand\n",
        "         1. if length is 5\n",
        "            1. we count the number of repeating elements, if a number is repeated 4 times we return 3,number (4 of a kind)\n",
        "            2. else if a number is repeated 3 time, we check for the next number count\n",
        "               1. if the next number count is 2, we return 4, number(having count of 3) (Full House)\n",
        "               2. else we return 7, number(3 of a kind)\n",
        "            3. else if the number is repeated 2 times, we check the count of the other number\n",
        "               1. if the other number is also 2, we return 8, max(both the numbers) (2 pairs)\n",
        "               2. else we return 9, number (1 pair)\n",
        "            4. else we return 10,max(hand)\n",
        "         2. if the length is 4\n",
        "            1. we count the number of repeating elements, if a number is repeated 4 times we return 3,number (4 of a kind)\n",
        "            2. else if a number is repeated 3 time, we return 7, number(3 of a kind) as here full house doesnt makes sense in 4 cards\n",
        "            3. else if the number is repeated 2 times, we check the count of the other number\n",
        "               1. if the other number is also 2, we return 8, max(both the numbers) (2 pairs)\n",
        "               2. else we return 9, number (1 pair)\n",
        "            4. else we return 10,max(hand)\n",
        "         3. else if the number is 3:\n",
        "            1. we check if a number is repeated 3 time, we return 7, number(3 of a kind)  as here full house and 4 at a time doesnt makes sense in 3 cards\n",
        "            2. else if the number is repeated 2 times, we return 9,number as 2 of a kind doesnt makes sense in 3 cards\n",
        "            3. else we return 10, max(hand)\"\"\"\n",
        "    value_set = []\n",
        "    suit_set = []\n",
        "    for i in user_set:\n",
        "        value,suit = i.split()\n",
        "        if value in conv_value:\n",
        "            value_set.append(int(conv_value[value]))\n",
        "        else:\n",
        "            value_set.append(int(value))\n",
        "        suit_set.append(suit)\n",
        "\n",
        "    user_point=0\n",
        "    if(len(set(suit_set))==1):  #check same suit of not. If yes its a flush\n",
        "        value_set1 = value_set.copy()\n",
        "        value_set1.sort()\n",
        "        values = list(range(min(value_set1),max(value_set1)+1))\n",
        "        print(value_set1,values)\n",
        "        if(value_set1 == values): #check values are in sequence or not\n",
        "            if len(value_set) == 5:\n",
        "                if str(\",\".join(map(str,sorted(value_set1,reverse=True)))) == \"14,13,12,11,10\":\n",
        "                    return 1,14 #royal flush\n",
        "                else:\n",
        "                    return 2, max(value_set1) #straight flush\n",
        "            elif len(value_set) == 4:\n",
        "                if str(\",\".join(map(str,sorted(value_set1,reverse=True)))) == \"14,13,12,11\":\n",
        "                    return 1,14 #royal flush\n",
        "                else:\n",
        "                    return 2, max(value_set1) #straight flush\n",
        "            elif len(value_set) == 3:\n",
        "                if str(\",\".join(map(str,sorted(value_set1,reverse=True)))) == \"14,13,12\":\n",
        "                    return 1,14 #royal flush\n",
        "                else:\n",
        "                    return 2, max(value_set1) ##straight flush \n",
        "        else:\n",
        "            return 5, max(value_set1) #flush\n",
        "    else:\n",
        "        value_set1 = value_set.copy()\n",
        "        value_set1.sort()\n",
        "        values = list(range(min(value_set1),max(value_set1)+1))\n",
        "        if(value_set1 == values): #check values are in sequence or not\n",
        "            return 6,max(value_set) #straight\n",
        "        else:\n",
        "            count = dict(Counter(value_set))\n",
        "            count = {i: j for i, j in sorted(count.items(), key=lambda item: item[1],reverse =  True)}\n",
        "            if len(value_set) == 5:\n",
        "                key1 = list(count.keys())[0]\n",
        "                key2 = list(count.keys())[1]\n",
        "                if count[key1] == 4:\n",
        "                    return 3, key1 #4 of a kind\n",
        "                elif count[key1] == 3:\n",
        "                    if count[key2] == 2:\n",
        "                        return 4, key1 #Full house\n",
        "                    else:\n",
        "                        return 7, key1 #3 of a kind\n",
        "                elif count[key1] == 2:\n",
        "                    if count[key2] == 2:\n",
        "                        return 8, max(key1,key2)  #Two pair\n",
        "                    else:\n",
        "                        return 9, key1 #One pair\n",
        "                else:\n",
        "                    return 10,max(value_set) #High card\n",
        "\n",
        "            elif len(value_set) == 4:\n",
        "                key1 = list(count.keys())[0]\n",
        "                if count[key1] == 4:\n",
        "                    return 3, key1 #4 of a kind\n",
        "                elif count[key1] == 3:\n",
        "                    return 7, key1  #3 of a kind\n",
        "                elif count[key1] == 2:\n",
        "                    key2 = list(count.keys())[1]\n",
        "                    if count[key2] == 2:\n",
        "                        return 8, max(key1,key2)  #Two pair\n",
        "                    else:\n",
        "                        return 9, key1 # One pair\n",
        "                else:\n",
        "                    return 10,max(value_set)  #High Card\n",
        "            elif len(value_set) == 3:\n",
        "                key1 = list(count.keys())[0]\n",
        "\n",
        "                if count[key1] == 3:\n",
        "                    return 7, key1  #3 of a kind\n",
        "                elif count[key1] == 2:\n",
        "                    key2 = list(count.keys())[1]\n",
        "                    return 9, key1  #One pair\n",
        "                else:\n",
        "                    return 10,max(value_set)   #High card\n"
      ],
      "execution_count": null,
      "outputs": []
    },
    {
      "cell_type": "code",
      "metadata": {
        "colab": {
          "base_uri": "https://localhost:8080/"
        },
        "id": "m9NHup5MntXc",
        "outputId": "6036c95d-6668-4a2d-f2d9-e31fb5b53917"
      },
      "source": [
        "set1=[]\n",
        "set2=[]\n",
        "no_of_cards = 5 #no of cards each player should have\n",
        "\n",
        "deck_2 = deck.copy()\n",
        "random.shuffle(deck_2) #shuffle the deck\n",
        "for i in range(no_of_cards):\n",
        "    set1.append(deck_2.pop())\n",
        "    set2.append(deck_2.pop())\n",
        "\n",
        "print(\"player 1 cards:\",set1)\n",
        "print(\"player 2 cards:\",set2)"
      ],
      "execution_count": null,
      "outputs": [
        {
          "output_type": "stream",
          "text": [
            "player 1 cards: ['3 clubs', '6 clubs', 'king hearts', 'jack hearts', '4 hearts']\n",
            "player 2 cards: ['2 diamonds', '6 spades', '6 hearts', 'king diamonds', 'jack clubs']\n"
          ],
          "name": "stdout"
        }
      ]
    },
    {
      "cell_type": "code",
      "metadata": {
        "colab": {
          "base_uri": "https://localhost:8080/"
        },
        "id": "jH1IWkWynxvu",
        "outputId": "005413d6-1f39-4110-a437-07bb763a3165"
      },
      "source": [
        "a,b = check_cards(set1)\n",
        "c,d = check_cards(set2)\n",
        "print(\"Player 1 hand rating:\",a,b)\n",
        "print(\"Player 2 hand rating:\",c,d)"
      ],
      "execution_count": null,
      "outputs": [
        {
          "output_type": "stream",
          "text": [
            "Player 1 hand rating: 10 13\n",
            "Player 2 hand rating: 9 6\n"
          ],
          "name": "stdout"
        }
      ]
    },
    {
      "cell_type": "code",
      "metadata": {
        "colab": {
          "base_uri": "https://localhost:8080/"
        },
        "id": "s5IdG-H3n119",
        "outputId": "8a74f8c1-ba0d-4ab4-e679-ac1c8d8962e1"
      },
      "source": [
        "#check who wins\n",
        "\n",
        "def who_won(a:int,b:int,c:int,d:int)->int:\n",
        "   \"\"\"1.check if the first element is greater of player 1 than player 2, then player  wins else vice versa.\n",
        "    2. if both have same, then we check the max value, i.e. the second element,\n",
        "    so here if the second element of player 2 is more than the first player then second player wins and vice versa\n",
        "    3. if both the players have same secopnd value, then the game ends in a draw.\n",
        "    \"\"\"\n",
        "\n",
        "    if a<c:\n",
        "        print(\"Winner is player 1\")\n",
        "        return 1\n",
        "    elif a>c:\n",
        "        print(\"Winner is player 2\")\n",
        "        return 2\n",
        "    elif a == c:\n",
        "        if b>d:\n",
        "            print(\"Winner is player 1\")\n",
        "            return 1\n",
        "        elif b<d:\n",
        "            print(\"Winner is player 2\")\n",
        "            return 2\n",
        "        elif b==d:\n",
        "            print(\"It is a draw!!\")\n",
        "            return 0\n",
        "who_won(a,b,c,d)"
      ],
      "execution_count": null,
      "outputs": [
        {
          "output_type": "stream",
          "text": [
            "Winner is player 2\n"
          ],
          "name": "stdout"
        },
        {
          "output_type": "execute_result",
          "data": {
            "text/plain": [
              "2"
            ]
          },
          "metadata": {
            "tags": []
          },
          "execution_count": 10
        }
      ]
    }
  ]
}